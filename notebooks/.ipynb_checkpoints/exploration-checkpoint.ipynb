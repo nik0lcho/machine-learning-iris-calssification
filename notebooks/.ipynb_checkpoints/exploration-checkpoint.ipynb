{
 "cells": [
  {
   "cell_type": "code",
   "execution_count": null,
   "id": "initial_id",
   "metadata": {
    "collapsed": true
   },
   "outputs": [],
   "source": [
    "from src.data import load_data\n",
    "from src.features import preprocess_data\n",
    "from src.model import train_model, evaluate_model\n",
    "from src.utils import plot_confusion_matrix"
   ]
  },
  {
   "cell_type": "markdown",
   "source": [
    "# 1. Load data"
   ],
   "metadata": {
    "collapsed": false
   },
   "id": "39fbb7f63e2ee1b4"
  },
  {
   "cell_type": "code",
   "outputs": [],
   "source": [
    "df = load_data(\"iris.csv\")"
   ],
   "metadata": {
    "collapsed": false
   },
   "id": "ab043d4dccb1f168"
  },
  {
   "cell_type": "markdown",
   "source": [
    "# 2. Preprocess data"
   ],
   "metadata": {
    "collapsed": false
   },
   "id": "565b21d0a14d4476"
  },
  {
   "cell_type": "code",
   "outputs": [],
   "source": [
    "X, y, le, scaler = preprocess_data(df)"
   ],
   "metadata": {
    "collapsed": false
   },
   "id": "c1e10b2302751b12"
  },
  {
   "cell_type": "markdown",
   "source": [
    "# 3. Train-test split"
   ],
   "metadata": {
    "collapsed": false
   },
   "id": "1ea22ff24e3da648"
  },
  {
   "cell_type": "code",
   "outputs": [],
   "source": [
    "from sklearn.model_selection import train_test_split\n",
    "X_train, X_test, y_train, y_test = train_test_split(X, y, test_size=0.2)"
   ],
   "metadata": {
    "collapsed": false
   },
   "id": "8de69f86a3214ebf"
  },
  {
   "cell_type": "markdown",
   "source": [
    "# 4. Train & evaluate"
   ],
   "metadata": {
    "collapsed": false
   },
   "id": "f893faf466ff50f"
  },
  {
   "cell_type": "code",
   "outputs": [],
   "source": [
    "model = train_model(X_train, y_train)\n",
    "accuracy = evaluate_model(model, X_test, y_test)\n",
    "print(f\"Accuracy: {accuracy:.2f}\")"
   ],
   "metadata": {
    "collapsed": false
   },
   "id": "d71eb0bf98e48b8b"
  },
  {
   "cell_type": "markdown",
   "source": [
    "# 5. Plot results"
   ],
   "metadata": {
    "collapsed": false
   },
   "id": "16a4a5c382beeb08"
  },
  {
   "cell_type": "code",
   "outputs": [],
   "source": [
    "plot_confusion_matrix(y_test, model.predict(X_test), le.classes_)"
   ],
   "metadata": {
    "collapsed": false
   },
   "id": "36de34b15ea26941"
  }
 ],
 "metadata": {
  "kernelspec": {
   "display_name": "Python 3",
   "language": "python",
   "name": "python3"
  },
  "language_info": {
   "codemirror_mode": {
    "name": "ipython",
    "version": 2
   },
   "file_extension": ".py",
   "mimetype": "text/x-python",
   "name": "python",
   "nbconvert_exporter": "python",
   "pygments_lexer": "ipython2",
   "version": "2.7.6"
  }
 },
 "nbformat": 4,
 "nbformat_minor": 5
}
