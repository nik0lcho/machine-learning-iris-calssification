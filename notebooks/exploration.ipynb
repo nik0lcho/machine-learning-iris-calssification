{
 "cells": [
  {
   "cell_type": "code",
   "execution_count": 25,
   "id": "5725b54f710c32be",
   "metadata": {
    "ExecuteTime": {
     "end_time": "2025-06-11T18:39:45.715040Z",
     "start_time": "2025-06-11T18:39:45.708443Z"
    },
    "collapsed": false,
    "jupyter": {
     "outputs_hidden": false
    }
   },
   "outputs": [],
   "source": [
    "import sys\n",
    "import os\n",
    "\n",
    "sys.path.append(os.path.abspath('..'))"
   ]
  },
  {
   "cell_type": "code",
   "execution_count": 26,
   "id": "initial_id",
   "metadata": {
    "ExecuteTime": {
     "end_time": "2025-06-11T18:39:49.295649Z",
     "start_time": "2025-06-11T18:39:49.292528Z"
    }
   },
   "outputs": [],
   "source": [
    "from src.data import load_data\n",
    "from src.features import preprocess_data\n",
    "from src.model import train_model, evaluate_model\n",
    "from src.utils import plot_confusion_matrix"
   ]
  },
  {
   "cell_type": "markdown",
   "id": "39fbb7f63e2ee1b4",
   "metadata": {
    "collapsed": false,
    "jupyter": {
     "outputs_hidden": false
    }
   },
   "source": [
    "# 1. Load data"
   ]
  },
  {
   "cell_type": "code",
   "execution_count": 27,
   "id": "ab043d4dccb1f168",
   "metadata": {
    "ExecuteTime": {
     "end_time": "2025-06-11T18:39:51.742761Z",
     "start_time": "2025-06-11T18:39:51.733732Z"
    },
    "collapsed": false,
    "jupyter": {
     "outputs_hidden": false
    }
   },
   "outputs": [],
   "source": [
    "df = load_data(\"../data/raw/IRIS.csv\")"
   ]
  },
  {
   "cell_type": "markdown",
   "id": "565b21d0a14d4476",
   "metadata": {
    "collapsed": false,
    "jupyter": {
     "outputs_hidden": false
    }
   },
   "source": [
    "# 2. Preprocess data"
   ]
  },
  {
   "cell_type": "code",
   "execution_count": 28,
   "id": "c1e10b2302751b12",
   "metadata": {
    "ExecuteTime": {
     "end_time": "2025-06-11T18:39:53.510424Z",
     "start_time": "2025-06-11T18:39:53.501751Z"
    },
    "collapsed": false,
    "jupyter": {
     "outputs_hidden": false
    }
   },
   "outputs": [],
   "source": [
    "X, y, le, scaler = preprocess_data(df)"
   ]
  },
  {
   "cell_type": "markdown",
   "id": "1ea22ff24e3da648",
   "metadata": {
    "collapsed": false,
    "jupyter": {
     "outputs_hidden": false
    }
   },
   "source": [
    "# 3. Train-test split"
   ]
  },
  {
   "cell_type": "code",
   "execution_count": 29,
   "id": "8de69f86a3214ebf",
   "metadata": {
    "ExecuteTime": {
     "end_time": "2025-06-11T18:39:54.890594Z",
     "start_time": "2025-06-11T18:39:54.886777Z"
    },
    "collapsed": false,
    "jupyter": {
     "outputs_hidden": false
    }
   },
   "outputs": [],
   "source": [
    "from sklearn.model_selection import train_test_split\n",
    "X_train, X_test, y_train, y_test = train_test_split(X, y, test_size=0.2)"
   ]
  },
  {
   "cell_type": "markdown",
   "id": "f893faf466ff50f",
   "metadata": {
    "collapsed": false,
    "jupyter": {
     "outputs_hidden": false
    }
   },
   "source": [
    "# 4. Train & evaluate"
   ]
  },
  {
   "cell_type": "code",
   "execution_count": 30,
   "id": "d71eb0bf98e48b8b",
   "metadata": {
    "ExecuteTime": {
     "end_time": "2025-06-11T18:41:38.521564Z",
     "start_time": "2025-06-11T18:41:38.442227Z"
    },
    "collapsed": false,
    "jupyter": {
     "outputs_hidden": false
    }
   },
   "outputs": [
    {
     "name": "stdout",
     "output_type": "stream",
     "text": [
      "Accuracy: 96.67%\n"
     ]
    }
   ],
   "source": [
    "model = train_model(X_train, y_train)\n",
    "accuracy = evaluate_model(model, X_test, y_test)\n",
    "print(f\"Accuracy: {(100 * accuracy):.2f}%\")"
   ]
  },
  {
   "cell_type": "markdown",
   "id": "16a4a5c382beeb08",
   "metadata": {
    "collapsed": false,
    "jupyter": {
     "outputs_hidden": false
    }
   },
   "source": [
    "# 5. Plot results"
   ]
  },
  {
   "cell_type": "code",
   "execution_count": 31,
   "id": "36de34b15ea26941",
   "metadata": {
    "ExecuteTime": {
     "end_time": "2025-06-11T18:41:41.183064Z",
     "start_time": "2025-06-11T18:41:41.099842Z"
    },
    "collapsed": false,
    "jupyter": {
     "outputs_hidden": false
    }
   },
   "outputs": [
    {
     "data": {
      "image/png": "[encoded data removed]",
      "text/plain": [
       "<Figure size 640x480 with 2 Axes>"
      ]
     },
     "metadata": {},
     "output_type": "display_data"
    }
   ],
   "source": [
    "plot_confusion_matrix(y_test, model.predict(X_test), le.classes_)"
   ]
  }
 ],
 "metadata": {
  "kernelspec": {
   "display_name": "Python 3 (ipykernel)",
   "language": "python",
   "name": "python3"
  },
  "language_info": {
   "codemirror_mode": {
    "name": "ipython",
    "version": 3
   },
   "file_extension": ".py",
   "mimetype": "text/x-python",
   "name": "python",
   "nbconvert_exporter": "python",
   "pygments_lexer": "ipython3",
   "version": "3.12.9"
  }
 },
 "nbformat": 4,
 "nbformat_minor": 5
}
