{
 "cells": [
  {
   "cell_type": "code",
   "outputs": [],
   "source": [
    "import sys\n",
    "import os\n",
    "\n",
    "sys.path.append(os.path.abspath('..'))"
   ],
   "metadata": {
    "collapsed": false,
    "ExecuteTime": {
     "end_time": "2025-06-11T16:37:44.925105Z",
     "start_time": "2025-06-11T16:37:44.921858Z"
    }
   },
   "id": "5725b54f710c32be",
   "execution_count": 1
  },
  {
   "cell_type": "code",
   "execution_count": 2,
   "id": "initial_id",
   "metadata": {
    "ExecuteTime": {
     "end_time": "2025-06-11T16:37:48.312902Z",
     "start_time": "2025-06-11T16:37:46.240501Z"
    }
   },
   "outputs": [],
   "source": [
    "from src.data import load_data\n",
    "from src.features import preprocess_data\n",
    "from src.model import train_model, evaluate_model\n",
    "from src.utils import plot_confusion_matrix"
   ]
  },
  {
   "cell_type": "markdown",
   "id": "39fbb7f63e2ee1b4",
   "metadata": {
    "collapsed": false
   },
   "source": [
    "# 1. Load data"
   ]
  },
  {
   "cell_type": "code",
   "execution_count": 4,
   "id": "ab043d4dccb1f168",
   "metadata": {
    "collapsed": false,
    "ExecuteTime": {
     "end_time": "2025-06-11T16:39:19.407188Z",
     "start_time": "2025-06-11T16:39:19.399850Z"
    }
   },
   "outputs": [],
   "source": [
    "df = load_data(\"../data/raw/IRIS.csv\")"
   ]
  },
  {
   "cell_type": "markdown",
   "id": "565b21d0a14d4476",
   "metadata": {
    "collapsed": false
   },
   "source": [
    "# 2. Preprocess data"
   ]
  },
  {
   "cell_type": "code",
   "execution_count": 5,
   "id": "c1e10b2302751b12",
   "metadata": {
    "collapsed": false,
    "ExecuteTime": {
     "end_time": "2025-06-11T16:39:24.102213Z",
     "start_time": "2025-06-11T16:39:24.096609Z"
    }
   },
   "outputs": [],
   "source": [
    "X, y, le, scaler = preprocess_data(df)"
   ]
  },
  {
   "cell_type": "markdown",
   "id": "1ea22ff24e3da648",
   "metadata": {
    "collapsed": false
   },
   "source": [
    "# 3. Train-test split"
   ]
  },
  {
   "cell_type": "code",
   "execution_count": 6,
   "id": "8de69f86a3214ebf",
   "metadata": {
    "collapsed": false,
    "ExecuteTime": {
     "end_time": "2025-06-11T16:39:28.065250Z",
     "start_time": "2025-06-11T16:39:28.059995Z"
    }
   },
   "outputs": [],
   "source": [
    "from sklearn.model_selection import train_test_split\n",
    "X_train, X_test, y_train, y_test = train_test_split(X, y, test_size=0.2)"
   ]
  },
  {
   "cell_type": "markdown",
   "id": "f893faf466ff50f",
   "metadata": {
    "collapsed": false
   },
   "source": [
    "# 4. Train & evaluate"
   ]
  },
  {
   "cell_type": "code",
   "execution_count": 7,
   "id": "d71eb0bf98e48b8b",
   "metadata": {
    "collapsed": false,
    "ExecuteTime": {
     "end_time": "2025-06-11T16:39:31.894716Z",
     "start_time": "2025-06-11T16:39:31.796586Z"
    }
   },
   "outputs": [
    {
     "name": "stdout",
     "output_type": "stream",
     "text": [
      "Accuracy: 0.97\n"
     ]
    }
   ],
   "source": [
    "model = train_model(X_train, y_train)\n",
    "accuracy = evaluate_model(model, X_test, y_test)\n",
    "print(f\"Accuracy: {accuracy:.2f}\")"
   ]
  },
  {
   "cell_type": "markdown",
   "id": "16a4a5c382beeb08",
   "metadata": {
    "collapsed": false
   },
   "source": [
    "# 5. Plot results"
   ]
  },
  {
   "cell_type": "code",
   "execution_count": 8,
   "id": "36de34b15ea26941",
   "metadata": {
    "collapsed": false,
    "ExecuteTime": {
     "end_time": "2025-06-11T16:39:36.155097Z",
     "start_time": "2025-06-11T16:39:35.652565Z"
    }
   },
   "outputs": [
    {
     "data": {
      "text/plain": "<Figure size 640x480 with 2 Axes>",
      "image/png": "[encoded data removed]"
     },
     "metadata": {},
     "output_type": "display_data"
    }
   ],
   "source": [
    "plot_confusion_matrix(y_test, model.predict(X_test), le.classes_)"
   ]
  }
 ],
 "metadata": {
  "kernelspec": {
   "display_name": "Python 3 (ipykernel)",
   "language": "python",
   "name": "python3"
  },
  "language_info": {
   "codemirror_mode": {
    "name": "ipython",
    "version": 3
   },
   "file_extension": ".py",
   "mimetype": "text/x-python",
   "name": "python",
   "nbconvert_exporter": "python",
   "pygments_lexer": "ipython3",
   "version": "3.12.9"
  }
 },
 "nbformat": 4,
 "nbformat_minor": 5
}
